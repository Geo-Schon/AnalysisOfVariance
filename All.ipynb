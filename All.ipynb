{
 "cells": [
  {
   "cell_type": "markdown",
   "id": "0f6fd31f-c7d8-4659-bced-c4730d53ada1",
   "metadata": {},
   "source": [
    "#### Задача\n",
    "Провести дисперсионный анализ для определения того, есть ли различия среднего роста среди взрослых футболистов, хоккеистов и штангистов.   \n",
    "Даны значения роста в трех группах случайно выбранных спортсменов:   \n",
    "*Футболисты*: 173, 175, 180, 178, 177, 185, 183, 182.   \n",
    "*Хоккеисты*: 177, 179, 180, 188, 177, 172, 171, 184, 180.   \n",
    "*Штангисты*: 172, 173, 169, 177, 166, 180, 178, 177, 172, 166, 170."
   ]
  },
  {
   "cell_type": "code",
   "execution_count": 8,
   "id": "eeb85570-8b96-434d-aade-9de240ef4403",
   "metadata": {
    "tags": []
   },
   "outputs": [],
   "source": [
    "import scipy.stats as stats\n",
    "import numpy as np"
   ]
  },
  {
   "cell_type": "code",
   "execution_count": 9,
   "id": "6556a180-11d1-4b08-8f05-0b3d4dc1cd02",
   "metadata": {
    "tags": []
   },
   "outputs": [],
   "source": [
    "football=np.array([173, 175, 180, 178, 177, 185, 183, 182])\n",
    "hockey=np.array([177, 179, 180, 188, 177, 172, 171, 184, 180])\n",
    "barbell=np.array([172, 173, 169, 177, 166, 180, 178, 177, 172, 166, 170])"
   ]
  },
  {
   "cell_type": "code",
   "execution_count": 10,
   "id": "18663cad-479e-4022-9202-8003d9e771f8",
   "metadata": {
    "tags": []
   },
   "outputs": [],
   "source": [
    "alpha=0.05 "
   ]
  },
  {
   "cell_type": "code",
   "execution_count": 11,
   "id": "3e35579e-4249-47f3-9e68-43b76d62a6ab",
   "metadata": {
    "tags": []
   },
   "outputs": [
    {
     "data": {
      "text/plain": [
       "ShapiroResult(statistic=0.9775082468986511, pvalue=0.9495404362678528)"
      ]
     },
     "execution_count": 11,
     "metadata": {},
     "output_type": "execute_result"
    }
   ],
   "source": [
    "stats.shapiro(football)"
   ]
  },
  {
   "cell_type": "code",
   "execution_count": 12,
   "id": "8923e308-a8e6-462b-9d22-a3b10baf233e",
   "metadata": {
    "tags": []
   },
   "outputs": [
    {
     "data": {
      "text/plain": [
       "ShapiroResult(statistic=0.9579196572303772, pvalue=0.7763139009475708)"
      ]
     },
     "execution_count": 12,
     "metadata": {},
     "output_type": "execute_result"
    }
   ],
   "source": [
    "stats.shapiro(hockey)"
   ]
  },
  {
   "cell_type": "code",
   "execution_count": 13,
   "id": "73546f02-1dcf-44a1-aa79-ce96e5a6fc9b",
   "metadata": {
    "tags": []
   },
   "outputs": [
    {
     "data": {
      "text/plain": [
       "ShapiroResult(statistic=0.9386808276176453, pvalue=0.5051165223121643)"
      ]
     },
     "execution_count": 13,
     "metadata": {},
     "output_type": "execute_result"
    }
   ],
   "source": [
    "stats.shapiro(barbell)"
   ]
  },
  {
   "cell_type": "markdown",
   "id": "c53bdf7d-6ab8-4790-9f5f-0806d8b0f55c",
   "metadata": {},
   "source": [
    "p-value для каждой выборки больше альфы, следовательно распределение нормальное"
   ]
  },
  {
   "cell_type": "code",
   "execution_count": 14,
   "id": "8db68cf7-a369-48ae-8d65-0a08bd72bab7",
   "metadata": {
    "tags": []
   },
   "outputs": [
    {
     "data": {
      "text/plain": [
       "BartlettResult(statistic=0.4640521043406442, pvalue=0.7929254656083131)"
      ]
     },
     "execution_count": 14,
     "metadata": {},
     "output_type": "execute_result"
    }
   ],
   "source": [
    "stats.bartlett(football, hockey, barbell)"
   ]
  },
  {
   "cell_type": "markdown",
   "id": "a4607977-aa86-4e56-b2b4-8b38b4bfa751",
   "metadata": {},
   "source": [
    "p-value для каждой выборки больше альфы, следовательно дисперсии равны"
   ]
  },
  {
   "cell_type": "markdown",
   "id": "cf2a85fd-a8fd-426e-8fcd-b3dc8cb9c6e1",
   "metadata": {},
   "source": [
    "Проводим однофакторный дисперсионный анализ\n",
    "\n",
    "$H0:\\mu_{1}=\\mu_{2}=\\mu_{3}$        -  различия среднего роста среди взрослых футболистов, хоккеистов и штангистов нет  \n",
    "$H1:\\mu_{1}\\neq\\mu_{2}\\neq\\mu_{3}$  -  различия среднего роста среди взрослых футболистов, хоккеистов и штангистов есть"
   ]
  },
  {
   "cell_type": "code",
   "execution_count": 15,
   "id": "c2e129aa-f244-45ec-b7d3-423352ef02b0",
   "metadata": {
    "tags": []
   },
   "outputs": [
    {
     "data": {
      "text/plain": [
       "F_onewayResult(statistic=5.500053450812596, pvalue=0.010482206918698694)"
      ]
     },
     "execution_count": 15,
     "metadata": {},
     "output_type": "execute_result"
    }
   ],
   "source": [
    "stats.f_oneway(football, hockey, barbell)"
   ]
  },
  {
   "cell_type": "markdown",
   "id": "f0a9cf57-c9ef-4838-89bc-3cd188651240",
   "metadata": {},
   "source": [
    "p-value на уровне статистической значимости заданной альфы, следовательно нулевая гипотеза отвергается. Есть различия в среднем росте взрослых футболистов, хоккеистов и штангистов.  "
   ]
  },
  {
   "cell_type": "code",
   "execution_count": null,
   "id": "0eabfdbf-c0d1-413b-81fc-0a2c6dde8ce9",
   "metadata": {},
   "outputs": [],
   "source": []
  }
 ],
 "metadata": {
  "kernelspec": {
   "display_name": "Python 3 (ipykernel)",
   "language": "python",
   "name": "python3"
  },
  "language_info": {
   "codemirror_mode": {
    "name": "ipython",
    "version": 3
   },
   "file_extension": ".py",
   "mimetype": "text/x-python",
   "name": "python",
   "nbconvert_exporter": "python",
   "pygments_lexer": "ipython3",
   "version": "3.11.4"
  }
 },
 "nbformat": 4,
 "nbformat_minor": 5
}
